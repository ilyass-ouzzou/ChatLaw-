{
 "cells": [
  {
   "cell_type": "code",
   "execution_count": 1,
   "metadata": {},
   "outputs": [],
   "source": [
    "import PyPDF2\n",
    "\n",
    "def extract_text_from_pdf(pdf_path):\n",
    "    with open(pdf_path, 'rb') as file:\n",
    "        reader = PyPDF2.PdfReader(file)\n",
    "        text = ''\n",
    "        for page in reader.pages:\n",
    "            text += page.extract_text()\n",
    "    return text\n",
    "\n",
    "pdf_path = r'C:\\Users\\pc\\Desktop\\ChatLaw\\data\\code_penal.pdf'\n",
    "text = extract_text_from_pdf(pdf_path)"
   ]
  },
  {
   "cell_type": "code",
   "execution_count": 2,
   "metadata": {},
   "outputs": [
    {
     "name": "stdout",
     "output_type": "stream",
     "text": [
      "WARNING:tensorflow:From c:\\Users\\pc\\anaconda3\\Lib\\site-packages\\tf_keras\\src\\losses.py:2976: The name tf.losses.sparse_softmax_cross_entropy is deprecated. Please use tf.compat.v1.losses.sparse_softmax_cross_entropy instead.\n",
      "\n"
     ]
    },
    {
     "name": "stderr",
     "output_type": "stream",
     "text": [
      "The installed version of bitsandbytes was compiled without GPU support. 8-bit optimizers, 8-bit multiplication, and GPU quantization are unavailable.\n",
      "c:\\Users\\pc\\anaconda3\\Lib\\site-packages\\transformers\\tokenization_utils_base.py:1601: FutureWarning: `clean_up_tokenization_spaces` was not set. It will be set to `True` by default. This behavior will be depracted in transformers v4.45, and will be then set to `False` by default. For more details check this issue: https://github.com/huggingface/transformers/issues/31884\n",
      "  warnings.warn(\n"
     ]
    }
   ],
   "source": [
    "from sentence_transformers import SentenceTransformer\n",
    "import faiss\n",
    "import numpy as np\n",
    "\n",
    "# Charger le modèle d'encodage\n",
    "model = SentenceTransformer('all-MiniLM-L6-v2')\n",
    "\n",
    "# Diviser le texte en phrases ou paragraphes\n",
    "sentences = text.split('\\n')\n",
    "\n",
    "# Encoder les phrases\n",
    "sentence_embeddings = model.encode(sentences)\n",
    "\n",
    "# Créer un index FAISS\n",
    "dimension = sentence_embeddings.shape[1]\n",
    "index = faiss.IndexFlatL2(dimension)\n",
    "index.add(sentence_embeddings)"
   ]
  },
  {
   "cell_type": "code",
   "execution_count": 3,
   "metadata": {},
   "outputs": [
    {
     "name": "stdout",
     "output_type": "stream",
     "text": [
      " Selon le Code Pénal marocain, la peine pour le vol dépend de l'importance du bien volé. En général, un vol avec simple dépassement de limite peut être puni d'une peine de prison allant jusqu'à 3 ans et d'une amende. Si le vol implique une arme ou un acte de violence, la peine peut aller jusqu'à 10 ans de prison et jusqu'à 5 ans de prison si le bien volé est apparemment inoffensif.\n"
     ]
    }
   ],
   "source": [
    "import ollama\n",
    "\n",
    "def search_and_answer(question, index, sentences, model, top_k=3):\n",
    "    # Encoder la question\n",
    "    question_embedding = model.encode([question])\n",
    "    \n",
    "    # Rechercher les phrases les plus proches\n",
    "    distances, indices = index.search(question_embedding, top_k)\n",
    "    \n",
    "    # Récupérer les phrases pertinentes\n",
    "    relevant_sentences = [sentences[i] for i in indices[0]]\n",
    "    \n",
    "    # Préparer le contexte pour le modèle de langage\n",
    "    context = \"\\n\".join(relevant_sentences)\n",
    "    \n",
    "    # Générer une réponse avec Mistral via Ollama\n",
    "    response = ollama.generate(model='mistral', prompt=f\"Contexte:\\n{context}\\n\\nQuestion: {question}\\nRéponse:\")\n",
    "    \n",
    "    return response['response']\n",
    "\n",
    "# Exemple d'utilisation\n",
    "question = \"Quelle est la peine pour le vol selon le Code Pénal marocain?\"\n",
    "answer = search_and_answer(question, index, sentences, model)\n",
    "print(answer)"
   ]
  }
 ],
 "metadata": {
  "kernelspec": {
   "display_name": "base",
   "language": "python",
   "name": "python3"
  },
  "language_info": {
   "codemirror_mode": {
    "name": "ipython",
    "version": 3
   },
   "file_extension": ".py",
   "mimetype": "text/x-python",
   "name": "python",
   "nbconvert_exporter": "python",
   "pygments_lexer": "ipython3",
   "version": "3.11.5"
  }
 },
 "nbformat": 4,
 "nbformat_minor": 2
}
